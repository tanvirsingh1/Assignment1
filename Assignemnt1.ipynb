{
 "cells": [
  {
   "cell_type": "markdown",
   "id": "136b5c82",
   "metadata": {},
   "source": [
    "## Part I: A Photo Booth Application\n"
   ]
  },
  {
   "cell_type": "code",
   "execution_count": 2,
   "id": "fac5154c",
   "metadata": {},
   "outputs": [],
   "source": [
    "import numpy as np\n",
    "import cv2"
   ]
  },
  {
   "cell_type": "code",
   "execution_count": 3,
   "id": "d4ea70be",
   "metadata": {},
   "outputs": [],
   "source": [
    "# Create a white background image\n",
    "img = np.ones((512, 512, 3), dtype=np.uint8) * 255\n",
    "\n",
    "# Define colors\n",
    "red_color = (0, 0, 255)\n",
    "green_color = (0, 255, 0)\n",
    "blue_color = (255, 0, 0)\n",
    "white_color = (255, 255, 255)\n",
    "\n",
    "# Draw red ellipse (top)\n",
    "cv2.ellipse(img, (256, 130), (80, 80), 120, 0, 300, red_color, -1)\n",
    "cv2.ellipse(img, (256, 130), (30, 30), 120, 0, 300, white_color, -1)\n",
    "\n",
    "# Draw green ellipse (bottom-left)\n",
    "cv2.ellipse(img, (156, 300), (80, 80), 0, 0, 300, green_color, -1)\n",
    "cv2.ellipse(img, (156, 300), (30, 30), 0, 0, 300, white_color, -1)\n",
    "\n",
    "# Draw blue ellipse (bottom-right)\n",
    "cv2.ellipse(img, (356, 300), (80, 80), -60, 0, 300, blue_color, -1)\n",
    "cv2.ellipse(img, (356, 300), (30, 30), -60, 0, 300, white_color, -1)\n",
    "\n",
    "# Add \"OpenCV\" text at the bottom\n",
    "text = \"OpenCV\"\n",
    "font = cv2.FONT_HERSHEY_SIMPLEX\n",
    "font_scale = 2\n",
    "thickness = 4\n",
    "color = (0, 0, 0)\n",
    "(text_width, text_height), baseline = cv2.getTextSize(text, font, font_scale, thickness)\n",
    "x = (img.shape[1] - text_width) // 2\n",
    "y=480\n",
    "\n",
    "cv2.putText(img, \"OpenCV\", (x, y),  font, font_scale, color, thickness)\n",
    "\n",
    "# Display the image\n",
    "cv2.imshow('OpenCV Logo', img)\n",
    "cv2.waitKey(0)\n",
    "cv2.destroyAllWindows()"
   ]
  },
  {
   "cell_type": "markdown",
   "id": "20994ced",
   "metadata": {},
   "source": [
    "## Part II: Image Arithmetic"
   ]
  },
  {
   "cell_type": "code",
   "execution_count": null,
   "id": "11df952c",
   "metadata": {},
   "outputs": [],
   "source": [
    "sky_img = cv2.imread('sky.jpg')\n",
    "mountain_img = cv2.imread('mountain.jpg')\n",
    "\n",
    "# if two images are of different shape, match them\n",
    "\n",
    "\n",
    "sky_img = cv2.imread('sky.jpg')\n",
    "mountain_img = cv2.imread('mountain.jpg')\n",
    "\n",
    "if sky_img.shape != mountain_img.shape:\n",
    "    sky_img = cv2.resize(sky_img, (mountain_img.shape[1], mountain_img.shape[0]))\n",
    "\n",
    "alpha = 0.5\n",
    "blend = (1 - alpha) * sky_img + alpha * mountain_img\n",
    "blend = blend.astype(np.uint8)\n",
    "\n",
    "# Resize all for display\n",
    "resized_sky = cv2.resize(sky_img, (500, 500))\n",
    "resized_mountain = cv2.resize(mountain_img, (500, 500))\n",
    "resized_blend = cv2.resize(blend, (500, 500))\n",
    "\n",
    "# Show all at once\n",
    "cv2.imshow('Sky Image', resized_sky)\n",
    "cv2.imshow('Mountain Image', resized_mountain)\n",
    "cv2.imshow('Blended Image', resized_blend)\n",
    "\n",
    "# Wait for key once, then close all windows\n",
    "cv2.waitKey(0)\n",
    "\n",
    "# Save the result\n",
    "cv2.imwrite('manual_blend.jpg', blend)\n",
    "\n"
   ]
  },
  {
   "cell_type": "code",
   "execution_count": 28,
   "id": "48d1c4b2",
   "metadata": {},
   "outputs": [
    {
     "data": {
      "text/plain": [
       "(1467, 2201, 3)"
      ]
     },
     "execution_count": 28,
     "metadata": {},
     "output_type": "execute_result"
    }
   ],
   "source": [
    "sky_img.shape"
   ]
  },
  {
   "cell_type": "markdown",
   "id": "f472d1ac",
   "metadata": {},
   "source": [
    "## Part II: Image Arithmetic"
   ]
  },
  {
   "cell_type": "markdown",
   "id": "b97ebe29",
   "metadata": {},
   "source": [
    "### code in .py file."
   ]
  },
  {
   "cell_type": "code",
   "execution_count": null,
   "id": "ac03d6d9",
   "metadata": {},
   "outputs": [],
   "source": []
  },
  {
   "cell_type": "code",
   "execution_count": null,
   "id": "5ab6ed63",
   "metadata": {},
   "outputs": [],
   "source": []
  }
 ],
 "metadata": {
  "kernelspec": {
   "display_name": "DPS920NSA",
   "language": "python",
   "name": "python3"
  },
  "language_info": {
   "codemirror_mode": {
    "name": "ipython",
    "version": 3
   },
   "file_extension": ".py",
   "mimetype": "text/x-python",
   "name": "python",
   "nbconvert_exporter": "python",
   "pygments_lexer": "ipython3",
   "version": "3.11.2"
  }
 },
 "nbformat": 4,
 "nbformat_minor": 5
}
